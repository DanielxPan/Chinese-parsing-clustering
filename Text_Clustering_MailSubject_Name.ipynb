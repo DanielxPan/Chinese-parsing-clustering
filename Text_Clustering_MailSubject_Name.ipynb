{
 "cells": [
  {
   "cell_type": "markdown",
   "metadata": {},
   "source": [
    "# Import Module"
   ]
  },
  {
   "cell_type": "code",
   "execution_count": 1,
   "metadata": {},
   "outputs": [],
   "source": [
    "from sklearn.feature_extraction.text import CountVectorizer, TfidfTransformer\n",
    "from sklearn.manifold import TSNE\n",
    "from sklearn.cluster import KMeans  \n",
    "#from data_utils import *\n",
    "import jieba\n",
    "import jieba.analyse\n",
    "import matplotlib.pyplot as plt\n",
    "import pandas as pd\n",
    "import numpy as np\n",
    "import codecs"
   ]
  },
  {
   "cell_type": "markdown",
   "metadata": {},
   "source": [
    "## 1.Import Custom Terms & Stop Words"
   ]
  },
  {
   "cell_type": "code",
   "execution_count": 2,
   "metadata": {},
   "outputs": [
    {
     "name": "stderr",
     "output_type": "stream",
     "text": [
      "Building prefix dict from the default dictionary ...\n",
      "Loading model from cache C:\\Users\\F78001\\AppData\\Local\\Temp\\jieba.cache\n",
      "Loading model cost 0.825 seconds.\n",
      "Prefix dict has been built succesfully.\n"
     ]
    }
   ],
   "source": [
    "#载入自訂辭庫\n",
    "jieba.load_userdict('data/SpecialWords.txt')"
   ]
  },
  {
   "cell_type": "code",
   "execution_count": 3,
   "metadata": {},
   "outputs": [],
   "source": [
    "#停止詞匯入一個數據組\n",
    "stopwords = [line.strip() for line in codecs.open('data/stopwords.txt', 'r', 'utf-8').readlines()]\n",
    "#载入停用词\n",
    "jieba.analyse.set_stop_words('data/stopwords.txt')"
   ]
  },
  {
   "cell_type": "markdown",
   "metadata": {},
   "source": [
    "# 2.Clear Punctuation"
   ]
  },
  {
   "cell_type": "code",
   "execution_count": 4,
   "metadata": {},
   "outputs": [],
   "source": [
    "rows=pd.read_excel('data/Mail_Subject_ZH_EN.xlsx',header=0,encoding='utf-8',dtype=str)\n",
    "Proj_list = rows.Mail_Subj_Txt.tolist()"
   ]
  },
  {
   "cell_type": "code",
   "execution_count": 6,
   "metadata": {},
   "outputs": [],
   "source": [
    "Proj_ID = rows.Proj_Id.tolist()"
   ]
  },
  {
   "cell_type": "markdown",
   "metadata": {},
   "source": [
    "中文文案"
   ]
  },
  {
   "cell_type": "code",
   "execution_count": 28,
   "metadata": {},
   "outputs": [],
   "source": [
    "#去除特殊符號/英文/數字\n",
    "import re\n",
    "\n",
    "Trm_Subj_Nm = []\n",
    "\n",
    "for i in Proj_list:\n",
    "    Trm_Prj_Nm = re.sub(u\"([^\\u4e00-\\u9fa5])\",\"\",i) #去除特殊符號/英文/數字\n",
    "    Prj_Nm = re.sub(r'\\d+', ' NUM ',Trm_Prj_Nm)\n",
    "    #L_Prj_Nm = Prj_Nm.lower()\n",
    "    Trm_Subj_Nm.append(Prj_Nm)"
   ]
  },
  {
   "cell_type": "code",
   "execution_count": 29,
   "metadata": {},
   "outputs": [
    {
     "data": {
      "text/plain": [
       "(2366,)"
      ]
     },
     "execution_count": 29,
     "metadata": {},
     "output_type": "execute_result"
    }
   ],
   "source": [
    "Trm_Subj_Nm_pd = pd.DataFrame(Trm_Subj_Nm)\n",
    "np.shape(Trm_Subj_Nm)"
   ]
  },
  {
   "cell_type": "code",
   "execution_count": 30,
   "metadata": {},
   "outputs": [],
   "source": [
    "export_csv = Trm_Subj_Nm_pd.to_csv (r'C:\\Users\\F78001\\Desktop\\Trm_Subj_Nm_ZH.csv', index = None, header=True)"
   ]
  },
  {
   "cell_type": "markdown",
   "metadata": {},
   "source": [
    "英文文案"
   ]
  },
  {
   "cell_type": "code",
   "execution_count": 7,
   "metadata": {},
   "outputs": [],
   "source": [
    "#去除特殊符號/中文/數字\n",
    "import re\n",
    "\n",
    "Trm_Prj_Nm_EN = []\n",
    "\n",
    "for i in Proj_list:\n",
    "    Trimmed_Proj_Nm = re.sub(u\"([^\\u0041-\\u005a\\u0061-\\u007a])\",\" \",i) #去除特殊符號/中文/數字\n",
    "    #Prj_Nm = re.sub(r'\\d+', ' NUM ',Trm_Prj_Nm)\n",
    "    L_Prj_Nm = Trimmed_Proj_Nm.lower()\n",
    "    Trm_Prj_Nm_EN.append(L_Prj_Nm)"
   ]
  },
  {
   "cell_type": "code",
   "execution_count": 8,
   "metadata": {},
   "outputs": [],
   "source": [
    "Trm_Prj_Nm_EN_pd = pd.DataFrame(Trm_Prj_Nm_EN)"
   ]
  },
  {
   "cell_type": "code",
   "execution_count": 9,
   "metadata": {},
   "outputs": [],
   "source": [
    "export_csv = Trm_Prj_Nm_EN_pd.to_csv (r'C:\\Users\\F78001\\Desktop\\Trm_MailSubject_Nm_EN.csv', index = None, header=True)"
   ]
  },
  {
   "cell_type": "markdown",
   "metadata": {},
   "source": [
    "# 3.Parsing"
   ]
  },
  {
   "cell_type": "code",
   "execution_count": 71,
   "metadata": {},
   "outputs": [],
   "source": [
    "#结巴中文分词\n",
    "segment_jieba = lambda text: \" \".join(jieba.cut(text))"
   ]
  },
  {
   "cell_type": "code",
   "execution_count": 48,
   "metadata": {},
   "outputs": [],
   "source": [
    "segment = lambda text: \" \".join(text)"
   ]
  },
  {
   "cell_type": "code",
   "execution_count": 72,
   "metadata": {},
   "outputs": [],
   "source": [
    "#1.加载语料\n",
    "corpus = []\n",
    "with open(\"data/Mail_Subj_Nm_EN_Recluster.txt\",\"r\") as f:\n",
    "    for line in f:\n",
    "        corpus.append(segment_jieba(line.strip())) # 去掉标点符号"
   ]
  },
  {
   "cell_type": "code",
   "execution_count": 65,
   "metadata": {},
   "outputs": [],
   "source": [
    "#1.加载语料_去除StopWord\n",
    "corpus_s = []\n",
    "with open(\"data/Mail_Subj_Nm_EN_Recluster.txt\",\"r\") as f:\n",
    "    for line in f:\n",
    "        words = jieba.cut(line.strip())\n",
    "        for word in words:\n",
    "            if word not in stopwords:\n",
    "                corpus_s.append(segment(words)) # 去掉标点符号"
   ]
  },
  {
   "cell_type": "markdown",
   "metadata": {},
   "source": [
    "# 4.Words to Vectors & Clustering"
   ]
  },
  {
   "cell_type": "code",
   "execution_count": 74,
   "metadata": {},
   "outputs": [],
   "source": [
    "#2.計算tf-idf設為權重\n",
    "vectorizer = CountVectorizer()\n",
    "transformer = TfidfTransformer()\n",
    "tfidf = transformer.fit_transform(vectorizer.fit_transform(corpus))\n",
    "#使用fit_transform先擬合資料再標準化"
   ]
  },
  {
   "cell_type": "code",
   "execution_count": 75,
   "metadata": {},
   "outputs": [
    {
     "name": "stdout",
     "output_type": "stream",
     "text": [
      "word feature length: 608\n"
     ]
    }
   ],
   "source": [
    "#3.獲取詞袋模型中的所有詞語特徵如果特徵數量非常多的情況下可以按照權重降維\n",
    "word = vectorizer.get_feature_names()\n",
    "print(\"word feature length: {}\".format(len(word))) #計算總共有N個重複詞組"
   ]
  },
  {
   "cell_type": "code",
   "execution_count": 76,
   "metadata": {},
   "outputs": [],
   "source": [
    "#4.匯出權重，到這邊就實現了將文字向量化的過程，矩陣中的每一行就是一個文檔的向量表示\n",
    "tfidf_weight = tfidf.toarray()"
   ]
  },
  {
   "cell_type": "code",
   "execution_count": 77,
   "metadata": {},
   "outputs": [
    {
     "data": {
      "text/plain": [
       "(425, 608)"
      ]
     },
     "execution_count": 77,
     "metadata": {},
     "output_type": "execute_result"
    }
   ],
   "source": [
    "np.shape(tfidf_weight)"
   ]
  },
  {
   "cell_type": "code",
   "execution_count": 78,
   "metadata": {
    "scrolled": true
   },
   "outputs": [
    {
     "data": {
      "text/plain": [
       "KMeans(algorithm='auto', copy_x=True, init='k-means++', max_iter=10000,\n",
       "    n_clusters=7, n_init=10, n_jobs=1, precompute_distances='auto',\n",
       "    random_state=None, tol=0.0001, verbose=0)"
      ]
     },
     "execution_count": 78,
     "metadata": {},
     "output_type": "execute_result"
    }
   ],
   "source": [
    "#5.對向量進行聚類\n",
    "# 指定分成N個類\n",
    "kmeans = KMeans(n_clusters=7,max_iter=10000)\n",
    "kmeans.fit(tfidf_weight)"
   ]
  },
  {
   "cell_type": "code",
   "execution_count": 79,
   "metadata": {
    "scrolled": true
   },
   "outputs": [
    {
     "name": "stdout",
     "output_type": "stream",
     "text": [
      "inertia: 347.1131100471121\n"
     ]
    }
   ],
   "source": [
    "print(\"inertia: {}\".format(kmeans.inertia_))"
   ]
  },
  {
   "cell_type": "code",
   "execution_count": 80,
   "metadata": {
    "scrolled": false
   },
   "outputs": [
    {
     "name": "stdout",
     "output_type": "stream",
     "text": [
      "[[ 1.18580841e-03  1.83569010e-03 -7.80625564e-18 ...  2.16357675e-03\n",
      "   2.06273712e-03  2.66490029e-03]\n",
      " [-3.25260652e-19  0.00000000e+00  0.00000000e+00 ... -2.16840434e-19\n",
      "   0.00000000e+00  6.50521303e-19]\n",
      " [-5.42101086e-19  4.33680869e-19  8.67361738e-19 ... -2.16840434e-19\n",
      "  -2.16840434e-19  8.67361738e-19]\n",
      " ...\n",
      " [-2.16840434e-19 -2.16840434e-19  0.00000000e+00 ...  0.00000000e+00\n",
      "   0.00000000e+00  4.33680869e-19]\n",
      " [ 8.67361738e-19 -1.30104261e-18  1.00935510e-02 ...  1.30104261e-18\n",
      "  -2.16840434e-18  4.33680869e-19]\n",
      " [-5.42101086e-19  4.33680869e-19  8.67361738e-19 ... -2.16840434e-19\n",
      "  -2.16840434e-19  8.67361738e-19]]\n",
      "index: 1, label: 5\n",
      "index: 2, label: 5\n",
      "index: 3, label: 0\n",
      "index: 4, label: 0\n",
      "index: 5, label: 0\n",
      "index: 6, label: 0\n",
      "index: 7, label: 0\n",
      "index: 8, label: 0\n",
      "index: 9, label: 0\n",
      "index: 10, label: 1\n",
      "index: 11, label: 1\n",
      "index: 12, label: 1\n",
      "index: 13, label: 1\n",
      "index: 14, label: 1\n",
      "index: 15, label: 1\n",
      "index: 16, label: 1\n",
      "index: 17, label: 1\n",
      "index: 18, label: 1\n",
      "index: 19, label: 0\n",
      "index: 20, label: 0\n",
      "index: 21, label: 0\n",
      "index: 22, label: 0\n",
      "index: 23, label: 0\n",
      "index: 24, label: 0\n",
      "index: 25, label: 0\n",
      "index: 26, label: 1\n",
      "index: 27, label: 0\n",
      "index: 28, label: 0\n",
      "index: 29, label: 1\n",
      "index: 30, label: 1\n",
      "index: 31, label: 5\n",
      "index: 32, label: 5\n",
      "index: 33, label: 5\n",
      "index: 34, label: 5\n",
      "index: 35, label: 0\n",
      "index: 36, label: 0\n",
      "index: 37, label: 0\n",
      "index: 38, label: 0\n",
      "index: 39, label: 0\n",
      "index: 40, label: 0\n",
      "index: 41, label: 0\n",
      "index: 42, label: 0\n",
      "index: 43, label: 0\n",
      "index: 44, label: 1\n",
      "index: 45, label: 1\n",
      "index: 46, label: 0\n",
      "index: 47, label: 5\n",
      "index: 48, label: 5\n",
      "index: 49, label: 5\n",
      "index: 50, label: 5\n",
      "index: 51, label: 0\n",
      "index: 52, label: 0\n",
      "index: 53, label: 0\n",
      "index: 54, label: 0\n",
      "index: 55, label: 3\n",
      "index: 56, label: 0\n",
      "index: 57, label: 0\n",
      "index: 58, label: 0\n",
      "index: 59, label: 0\n",
      "index: 60, label: 0\n",
      "index: 61, label: 0\n",
      "index: 62, label: 0\n",
      "index: 63, label: 0\n",
      "index: 64, label: 0\n",
      "index: 65, label: 0\n",
      "index: 66, label: 0\n",
      "index: 67, label: 0\n",
      "index: 68, label: 0\n",
      "index: 69, label: 0\n",
      "index: 70, label: 0\n",
      "index: 71, label: 0\n",
      "index: 72, label: 0\n",
      "index: 73, label: 0\n",
      "index: 74, label: 5\n",
      "index: 75, label: 5\n",
      "index: 76, label: 5\n",
      "index: 77, label: 5\n",
      "index: 78, label: 5\n",
      "index: 79, label: 6\n",
      "index: 80, label: 6\n",
      "index: 81, label: 6\n",
      "index: 82, label: 0\n",
      "index: 83, label: 4\n",
      "index: 84, label: 0\n",
      "index: 85, label: 0\n",
      "index: 86, label: 0\n",
      "index: 87, label: 0\n",
      "index: 88, label: 0\n",
      "index: 89, label: 0\n",
      "index: 90, label: 0\n",
      "index: 91, label: 0\n",
      "index: 92, label: 0\n",
      "index: 93, label: 0\n",
      "index: 94, label: 0\n",
      "index: 95, label: 6\n",
      "index: 96, label: 0\n",
      "index: 97, label: 0\n",
      "index: 98, label: 5\n",
      "index: 99, label: 0\n",
      "index: 100, label: 5\n",
      "index: 101, label: 5\n",
      "index: 102, label: 0\n",
      "index: 103, label: 0\n",
      "index: 104, label: 0\n",
      "index: 105, label: 2\n",
      "index: 106, label: 5\n",
      "index: 107, label: 5\n",
      "index: 108, label: 0\n",
      "index: 109, label: 0\n",
      "index: 110, label: 0\n",
      "index: 111, label: 0\n",
      "index: 112, label: 0\n",
      "index: 113, label: 0\n",
      "index: 114, label: 0\n",
      "index: 115, label: 0\n",
      "index: 116, label: 5\n",
      "index: 117, label: 5\n",
      "index: 118, label: 0\n",
      "index: 119, label: 0\n",
      "index: 120, label: 0\n",
      "index: 121, label: 0\n",
      "index: 122, label: 0\n",
      "index: 123, label: 0\n",
      "index: 124, label: 4\n",
      "index: 125, label: 0\n",
      "index: 126, label: 0\n",
      "index: 127, label: 0\n",
      "index: 128, label: 0\n",
      "index: 129, label: 5\n",
      "index: 130, label: 5\n",
      "index: 131, label: 0\n",
      "index: 132, label: 0\n",
      "index: 133, label: 0\n",
      "index: 134, label: 0\n",
      "index: 135, label: 0\n",
      "index: 136, label: 0\n",
      "index: 137, label: 0\n",
      "index: 138, label: 0\n",
      "index: 139, label: 0\n",
      "index: 140, label: 0\n",
      "index: 141, label: 0\n",
      "index: 142, label: 0\n",
      "index: 143, label: 0\n",
      "index: 144, label: 4\n",
      "index: 145, label: 4\n",
      "index: 146, label: 0\n",
      "index: 147, label: 0\n",
      "index: 148, label: 0\n",
      "index: 149, label: 0\n",
      "index: 150, label: 0\n",
      "index: 151, label: 5\n",
      "index: 152, label: 5\n",
      "index: 153, label: 4\n",
      "index: 154, label: 1\n",
      "index: 155, label: 1\n",
      "index: 156, label: 1\n",
      "index: 157, label: 1\n",
      "index: 158, label: 1\n",
      "index: 159, label: 4\n",
      "index: 160, label: 4\n",
      "index: 161, label: 4\n",
      "index: 162, label: 4\n",
      "index: 163, label: 4\n",
      "index: 164, label: 4\n",
      "index: 165, label: 4\n",
      "index: 166, label: 4\n",
      "index: 167, label: 6\n",
      "index: 168, label: 5\n",
      "index: 169, label: 5\n",
      "index: 170, label: 6\n",
      "index: 171, label: 5\n",
      "index: 172, label: 5\n",
      "index: 173, label: 5\n",
      "index: 174, label: 0\n",
      "index: 175, label: 6\n",
      "index: 176, label: 6\n",
      "index: 177, label: 5\n",
      "index: 178, label: 0\n",
      "index: 179, label: 4\n",
      "index: 180, label: 0\n",
      "index: 181, label: 0\n",
      "index: 182, label: 0\n",
      "index: 183, label: 3\n",
      "index: 184, label: 0\n",
      "index: 185, label: 0\n",
      "index: 186, label: 0\n",
      "index: 187, label: 0\n",
      "index: 188, label: 0\n",
      "index: 189, label: 4\n",
      "index: 190, label: 0\n",
      "index: 191, label: 5\n",
      "index: 192, label: 5\n",
      "index: 193, label: 4\n",
      "index: 194, label: 6\n",
      "index: 195, label: 0\n",
      "index: 196, label: 0\n",
      "index: 197, label: 0\n",
      "index: 198, label: 5\n",
      "index: 199, label: 5\n",
      "index: 200, label: 2\n",
      "index: 201, label: 2\n",
      "index: 202, label: 2\n",
      "index: 203, label: 2\n",
      "index: 204, label: 5\n",
      "index: 205, label: 5\n",
      "index: 206, label: 2\n",
      "index: 207, label: 0\n",
      "index: 208, label: 0\n",
      "index: 209, label: 6\n",
      "index: 210, label: 0\n",
      "index: 211, label: 0\n",
      "index: 212, label: 2\n",
      "index: 213, label: 2\n",
      "index: 214, label: 2\n",
      "index: 215, label: 2\n",
      "index: 216, label: 2\n",
      "index: 217, label: 2\n",
      "index: 218, label: 5\n",
      "index: 219, label: 5\n",
      "index: 220, label: 2\n",
      "index: 221, label: 6\n",
      "index: 222, label: 0\n",
      "index: 223, label: 0\n",
      "index: 224, label: 0\n",
      "index: 225, label: 0\n",
      "index: 226, label: 0\n",
      "index: 227, label: 0\n",
      "index: 228, label: 0\n",
      "index: 229, label: 5\n",
      "index: 230, label: 5\n",
      "index: 231, label: 6\n",
      "index: 232, label: 6\n",
      "index: 233, label: 0\n",
      "index: 234, label: 5\n",
      "index: 235, label: 5\n",
      "index: 236, label: 5\n",
      "index: 237, label: 6\n",
      "index: 238, label: 0\n",
      "index: 239, label: 0\n",
      "index: 240, label: 0\n",
      "index: 241, label: 0\n",
      "index: 242, label: 0\n",
      "index: 243, label: 0\n",
      "index: 244, label: 2\n",
      "index: 245, label: 2\n",
      "index: 246, label: 0\n",
      "index: 247, label: 2\n",
      "index: 248, label: 2\n",
      "index: 249, label: 2\n",
      "index: 250, label: 2\n",
      "index: 251, label: 2\n",
      "index: 252, label: 0\n",
      "index: 253, label: 0\n",
      "index: 254, label: 0\n",
      "index: 255, label: 0\n",
      "index: 256, label: 0\n",
      "index: 257, label: 0\n",
      "index: 258, label: 0\n",
      "index: 259, label: 0\n",
      "index: 260, label: 0\n",
      "index: 261, label: 0\n",
      "index: 262, label: 0\n",
      "index: 263, label: 5\n",
      "index: 264, label: 5\n",
      "index: 265, label: 5\n",
      "index: 266, label: 5\n",
      "index: 267, label: 5\n",
      "index: 268, label: 5\n",
      "index: 269, label: 5\n",
      "index: 270, label: 0\n",
      "index: 271, label: 0\n",
      "index: 272, label: 0\n",
      "index: 273, label: 0\n",
      "index: 274, label: 5\n",
      "index: 275, label: 5\n",
      "index: 276, label: 0\n",
      "index: 277, label: 0\n",
      "index: 278, label: 0\n",
      "index: 279, label: 0\n",
      "index: 280, label: 6\n",
      "index: 281, label: 6\n",
      "index: 282, label: 6\n",
      "index: 283, label: 6\n",
      "index: 284, label: 6\n",
      "index: 285, label: 6\n",
      "index: 286, label: 6\n",
      "index: 287, label: 6\n",
      "index: 288, label: 6\n",
      "index: 289, label: 6\n",
      "index: 290, label: 5\n",
      "index: 291, label: 5\n",
      "index: 292, label: 5\n",
      "index: 293, label: 5\n",
      "index: 294, label: 5\n",
      "index: 295, label: 5\n",
      "index: 296, label: 5\n",
      "index: 297, label: 5\n",
      "index: 298, label: 5\n",
      "index: 299, label: 5\n",
      "index: 300, label: 5\n",
      "index: 301, label: 0\n",
      "index: 302, label: 0\n",
      "index: 303, label: 6\n",
      "index: 304, label: 6\n",
      "index: 305, label: 5\n",
      "index: 306, label: 5\n",
      "index: 307, label: 0\n",
      "index: 308, label: 0\n",
      "index: 309, label: 0\n",
      "index: 310, label: 0\n",
      "index: 311, label: 0\n",
      "index: 312, label: 0\n",
      "index: 313, label: 0\n",
      "index: 314, label: 0\n",
      "index: 315, label: 0\n",
      "index: 316, label: 3\n",
      "index: 317, label: 0\n",
      "index: 318, label: 0\n",
      "index: 319, label: 0\n",
      "index: 320, label: 6\n",
      "index: 321, label: 5\n",
      "index: 322, label: 5\n",
      "index: 323, label: 0\n",
      "index: 324, label: 0\n",
      "index: 325, label: 4\n",
      "index: 326, label: 0\n",
      "index: 327, label: 0\n",
      "index: 328, label: 0\n",
      "index: 329, label: 0\n",
      "index: 330, label: 0\n",
      "index: 331, label: 0\n",
      "index: 332, label: 0\n",
      "index: 333, label: 0\n",
      "index: 334, label: 0\n",
      "index: 335, label: 0\n",
      "index: 336, label: 5\n",
      "index: 337, label: 5\n",
      "index: 338, label: 0\n",
      "index: 339, label: 0\n",
      "index: 340, label: 0\n",
      "index: 341, label: 0\n",
      "index: 342, label: 5\n",
      "index: 343, label: 5\n",
      "index: 344, label: 5\n",
      "index: 345, label: 5\n",
      "index: 346, label: 0\n",
      "index: 347, label: 5\n",
      "index: 348, label: 5\n",
      "index: 349, label: 0\n",
      "index: 350, label: 0\n",
      "index: 351, label: 0\n",
      "index: 352, label: 0\n",
      "index: 353, label: 0\n",
      "index: 354, label: 0\n",
      "index: 355, label: 6\n",
      "index: 356, label: 0\n",
      "index: 357, label: 6\n",
      "index: 358, label: 0\n",
      "index: 359, label: 0\n",
      "index: 360, label: 0\n",
      "index: 361, label: 0\n",
      "index: 362, label: 0\n",
      "index: 363, label: 0\n",
      "index: 364, label: 5\n",
      "index: 365, label: 5\n",
      "index: 366, label: 0\n",
      "index: 367, label: 2\n",
      "index: 368, label: 2\n",
      "index: 369, label: 2\n",
      "index: 370, label: 5\n",
      "index: 371, label: 5\n",
      "index: 372, label: 5\n",
      "index: 373, label: 2\n",
      "index: 374, label: 2\n",
      "index: 375, label: 0\n",
      "index: 376, label: 0\n",
      "index: 377, label: 2\n",
      "index: 378, label: 2\n",
      "index: 379, label: 0\n",
      "index: 380, label: 0\n",
      "index: 381, label: 2\n",
      "index: 382, label: 2\n",
      "index: 383, label: 5\n",
      "index: 384, label: 5\n",
      "index: 385, label: 0\n",
      "index: 386, label: 0\n",
      "index: 387, label: 0\n",
      "index: 388, label: 0\n",
      "index: 389, label: 0\n",
      "index: 390, label: 6\n",
      "index: 391, label: 0\n",
      "index: 392, label: 0\n",
      "index: 393, label: 0\n",
      "index: 394, label: 0\n",
      "index: 395, label: 5\n",
      "index: 396, label: 5\n",
      "index: 397, label: 0\n",
      "index: 398, label: 0\n",
      "index: 399, label: 0\n",
      "index: 400, label: 2\n",
      "index: 401, label: 2\n",
      "index: 402, label: 0\n",
      "index: 403, label: 0\n",
      "index: 404, label: 0\n",
      "index: 405, label: 5\n",
      "index: 406, label: 5\n",
      "index: 407, label: 0\n",
      "index: 408, label: 0\n",
      "index: 409, label: 0\n",
      "index: 410, label: 0\n",
      "index: 411, label: 0\n",
      "index: 412, label: 0\n",
      "index: 413, label: 0\n",
      "index: 414, label: 3\n",
      "index: 415, label: 3\n",
      "index: 416, label: 3\n",
      "index: 417, label: 3\n",
      "index: 418, label: 5\n",
      "index: 419, label: 5\n",
      "index: 420, label: 0\n",
      "index: 421, label: 5\n",
      "index: 422, label: 6\n",
      "index: 423, label: 5\n",
      "index: 424, label: 5\n",
      "index: 425, label: 0\n"
     ]
    }
   ],
   "source": [
    "# 列印出各個族的中心點\n",
    "print(kmeans.cluster_centers_)\n",
    "for index, label in enumerate(kmeans.labels_, 1): #使用enumerate針對字典中的字枚舉、列舉\n",
    "    print(\"index: {}, label: {}\".format(index, label))"
   ]
  },
  {
   "cell_type": "code",
   "execution_count": 81,
   "metadata": {
    "scrolled": false
   },
   "outputs": [],
   "source": [
    "text_cluster = []\n",
    "\n",
    "for index, label in enumerate(kmeans.labels_, 1):\n",
    "    text_cluster.append(\"index: {}, label: {}\".format(index, label))"
   ]
  },
  {
   "cell_type": "code",
   "execution_count": 82,
   "metadata": {
    "scrolled": false
   },
   "outputs": [
    {
     "name": "stdout",
     "output_type": "stream",
     "text": [
      "inertia: 347.1131100471121\n"
     ]
    }
   ],
   "source": [
    "# 樣本距其最近的聚類中心的平方距離之和，用來評判分類的準確度，值越小越好\n",
    "# k-means的超參數n_clusters可以通過該值來評估\n",
    "print(\"inertia: {}\".format(kmeans.inertia_))"
   ]
  },
  {
   "cell_type": "markdown",
   "metadata": {},
   "source": [
    "# 5.Visualization"
   ]
  },
  {
   "cell_type": "code",
   "execution_count": 83,
   "metadata": {
    "scrolled": true
   },
   "outputs": [],
   "source": [
    "#將Label轉為文字\n",
    "#label_str = kmeans.labels_.astype(str)\n",
    "lab = kmeans.labels_.astype(int)"
   ]
  },
  {
   "cell_type": "code",
   "execution_count": 84,
   "metadata": {},
   "outputs": [],
   "source": [
    "#6.視覺化\n",
    "# 使用T-SNE演算法，對權重進行降維，準確度比PCA演算法高，但是耗時長\n",
    "tsne = TSNE(n_components=2)\n",
    "decomposition_data = tsne.fit_transform(tfidf_weight)"
   ]
  },
  {
   "cell_type": "code",
   "execution_count": 85,
   "metadata": {
    "scrolled": true
   },
   "outputs": [],
   "source": [
    "result = np.insert( decomposition_data , 0 ,values = lab ,axis=1)"
   ]
  },
  {
   "cell_type": "code",
   "execution_count": 86,
   "metadata": {},
   "outputs": [
    {
     "data": {
      "text/plain": [
       "(425, 3)"
      ]
     },
     "execution_count": 86,
     "metadata": {},
     "output_type": "execute_result"
    }
   ],
   "source": [
    "np.shape(result)"
   ]
  },
  {
   "cell_type": "code",
   "execution_count": 87,
   "metadata": {},
   "outputs": [
    {
     "data": {
      "text/plain": [
       "array([[  5.       ,   8.406439 ,   7.743995 ],\n",
       "       [  5.       ,   8.406673 ,   7.7435627],\n",
       "       [  0.       , -17.048145 , -12.493729 ],\n",
       "       [  0.       , -22.681318 ,  -6.67453  ],\n",
       "       [  0.       , -14.100124 ,  -7.8721156]], dtype=float32)"
      ]
     },
     "execution_count": 87,
     "metadata": {},
     "output_type": "execute_result"
    }
   ],
   "source": [
    "result[:5]"
   ]
  },
  {
   "cell_type": "code",
   "execution_count": 88,
   "metadata": {},
   "outputs": [],
   "source": [
    "#將result表格中的欄位定義變數\n",
    "cluster = result[:,0].astype(int)\n",
    "a = result[:,1]\n",
    "b = result[:,2]"
   ]
  },
  {
   "cell_type": "code",
   "execution_count": 89,
   "metadata": {},
   "outputs": [],
   "source": [
    "#將result表格中的定義變數轉為DataFrame\n",
    "PT = {\n",
    "                \"Cluster\":cluster,\n",
    "                \"X\":a,\n",
    "                \"Y\":b\n",
    "}\n",
    "PT_pd = pd.DataFrame(PT)"
   ]
  },
  {
   "cell_type": "code",
   "execution_count": 90,
   "metadata": {},
   "outputs": [
    {
     "data": {
      "text/plain": [
       "(425, 3)"
      ]
     },
     "execution_count": 90,
     "metadata": {},
     "output_type": "execute_result"
    }
   ],
   "source": [
    "np.shape(PT_pd)"
   ]
  },
  {
   "cell_type": "code",
   "execution_count": 91,
   "metadata": {},
   "outputs": [],
   "source": [
    "#切分各群集資料\n",
    "C0=PT_pd[(PT_pd[\"Cluster\"]==0)]\n",
    "C1=PT_pd[(PT_pd[\"Cluster\"]==1)]\n",
    "C2=PT_pd[(PT_pd[\"Cluster\"]==2)]\n",
    "C3=PT_pd[(PT_pd[\"Cluster\"]==3)]\n",
    "C4=PT_pd[(PT_pd[\"Cluster\"]==4)]\n",
    "C5=PT_pd[(PT_pd[\"Cluster\"]==5)]\n",
    "C6=PT_pd[(PT_pd[\"Cluster\"]==6)]\n",
    "#C7=PT_pd[(PT_pd[\"Cluster\"]==7)]\n",
    "#C8=PT_pd[(PT_pd[\"Cluster\"]==8)]\n",
    "#C9=PT_pd[(PT_pd[\"Cluster\"]==9)]\n",
    "#C10=PT_pd[(PT_pd[\"Cluster\"]==10)]\n",
    "#C11=PT_pd[(PT_pd[\"Cluster\"]==11)]\n",
    "#C12=PT_pd[(PT_pd[\"Cluster\"]==12)]\n",
    "#C13=PT_pd[(PT_pd[\"Cluster\"]==13)]\n",
    "#C14=PT_pd[(PT_pd[\"Cluster\"]==14)]\n",
    "#C15=PT_pd[(PT_pd[\"Cluster\"]==15)]"
   ]
  },
  {
   "cell_type": "code",
   "execution_count": 92,
   "metadata": {},
   "outputs": [
    {
     "data": {
      "text/html": [
       "<div>\n",
       "<style scoped>\n",
       "    .dataframe tbody tr th:only-of-type {\n",
       "        vertical-align: middle;\n",
       "    }\n",
       "\n",
       "    .dataframe tbody tr th {\n",
       "        vertical-align: top;\n",
       "    }\n",
       "\n",
       "    .dataframe thead th {\n",
       "        text-align: right;\n",
       "    }\n",
       "</style>\n",
       "<table border=\"1\" class=\"dataframe\">\n",
       "  <thead>\n",
       "    <tr style=\"text-align: right;\">\n",
       "      <th></th>\n",
       "      <th>Cluster</th>\n",
       "      <th>X</th>\n",
       "      <th>Y</th>\n",
       "    </tr>\n",
       "  </thead>\n",
       "  <tbody>\n",
       "    <tr>\n",
       "      <th>78</th>\n",
       "      <td>6</td>\n",
       "      <td>-2.920037</td>\n",
       "      <td>-14.620411</td>\n",
       "    </tr>\n",
       "    <tr>\n",
       "      <th>79</th>\n",
       "      <td>6</td>\n",
       "      <td>-2.915161</td>\n",
       "      <td>-14.625137</td>\n",
       "    </tr>\n",
       "    <tr>\n",
       "      <th>80</th>\n",
       "      <td>6</td>\n",
       "      <td>-9.107885</td>\n",
       "      <td>13.355725</td>\n",
       "    </tr>\n",
       "    <tr>\n",
       "      <th>94</th>\n",
       "      <td>6</td>\n",
       "      <td>3.408316</td>\n",
       "      <td>-10.644837</td>\n",
       "    </tr>\n",
       "    <tr>\n",
       "      <th>166</th>\n",
       "      <td>6</td>\n",
       "      <td>2.999347</td>\n",
       "      <td>-10.239684</td>\n",
       "    </tr>\n",
       "  </tbody>\n",
       "</table>\n",
       "</div>"
      ],
      "text/plain": [
       "     Cluster         X          Y\n",
       "78         6 -2.920037 -14.620411\n",
       "79         6 -2.915161 -14.625137\n",
       "80         6 -9.107885  13.355725\n",
       "94         6  3.408316 -10.644837\n",
       "166        6  2.999347 -10.239684"
      ]
     },
     "execution_count": 92,
     "metadata": {},
     "output_type": "execute_result"
    }
   ],
   "source": [
    "C6[:5]"
   ]
  },
  {
   "cell_type": "code",
   "execution_count": 93,
   "metadata": {
    "scrolled": false
   },
   "outputs": [
    {
     "data": {
      "text/plain": [
       "<matplotlib.legend.Legend at 0x281c085e978>"
      ]
     },
     "execution_count": 93,
     "metadata": {},
     "output_type": "execute_result"
    },
    {
     "data": {
      "image/png": "[encoded data removed]",
      "text/plain": [
       "<Figure size 720x720 with 1 Axes>"
      ]
     },
     "metadata": {},
     "output_type": "display_data"
    }
   ],
   "source": [
    "#將各群集2維資料畫進散步圖\n",
    "fig = plt.figure(figsize=(10, 10))\n",
    "ax = plt.axes()\n",
    "\n",
    "plt.scatter(C0['X'],C0['Y'], C0['Cluster'] , marker=\".\",label=\"C0\")\n",
    "plt.scatter(C1['X'],C1['Y'], C1['Cluster'] , marker=\"o\",label=\"C1\")\n",
    "plt.scatter(C2['X'],C2['Y'], C2['Cluster'] , marker=\"v\",label=\"C2\")\n",
    "plt.scatter(C3['X'],C3['Y'], C3['Cluster'] , marker=\"^\",label=\"C3\")\n",
    "plt.scatter(C4['X'],C4['Y'], C4['Cluster'] , marker=\"8\",label=\"C4\")\n",
    "plt.scatter(C5['X'],C5['Y'], C5['Cluster'] , marker=\"s\",label=\"C5\")\n",
    "plt.scatter(C6['X'],C6['Y'], C6['Cluster'] , marker=\"p\",label=\"C6\")\n",
    "#plt.scatter(C7['X'],C7['Y'], C7['Cluster'] , marker=\"*\",label=\"C7\")\n",
    "#plt.scatter(C8['X'],C8['Y'], C8['Cluster'] , marker=\"+\",label=\"C8\")\n",
    "#plt.scatter(C9['X'],C9['Y'], C9['Cluster'] , marker=\"D\",label=\"C9\")\n",
    "#plt.scatter(C10['X'],C10['Y'], C10['Cluster'] , marker=\"x\",label=\"C10\")\n",
    "#plt.scatter(C11['X'],C11['Y'], C11['Cluster'] , marker=\"H\",label=\"C11\")\n",
    "#plt.scatter(C12['X'],C12['Y'], C12['Cluster'] , marker=\"<\",label=\"C12\")\n",
    "#plt.scatter(C13['X'],C13['Y'], C13['Cluster'] , marker=\">\",label=\"C13\")\n",
    "#plt.scatter(C14['X'],C14['Y'], C14['Cluster'] , marker=\"1\",label=\"C14\")\n",
    "#plt.scatter(C15['X'],C15['Y'], C15['Cluster'] , marker=\"2\",label=\"C15\")\n",
    "\n",
    "# 設置坐標軸的取值範圍\n",
    "#plt.xlim((-100, 100))\n",
    "#plt.ylim((-100, 100))\n",
    "\n",
    "#設置坐標軸刻度\n",
    "plt.xticks(())\n",
    "plt.yticks(())\n",
    "\n",
    "#设置图例\n",
    "plt.legend(loc=(1, 0.5))\n",
    "\n",
    "# plt.show()\n",
    "#plt.savefig('./_ZH.png', aspect=1)"
   ]
  },
  {
   "cell_type": "markdown",
   "metadata": {},
   "source": [
    "# 6.Reprocess & Output"
   ]
  },
  {
   "cell_type": "code",
   "execution_count": 94,
   "metadata": {},
   "outputs": [],
   "source": [
    "Trimmed_Proj_Nm = np.array(corpus).reshape(-1)\n",
    "Label = kmeans.labels_.astype(int).tolist()"
   ]
  },
  {
   "cell_type": "code",
   "execution_count": 95,
   "metadata": {},
   "outputs": [],
   "source": [
    "Result_Table = {\n",
    "                \"Trimmed_Proj_Nm\":Trimmed_Proj_Nm,\n",
    "                \"Label\":Label\n",
    "}"
   ]
  },
  {
   "cell_type": "code",
   "execution_count": 96,
   "metadata": {},
   "outputs": [],
   "source": [
    "text_cluster_df = pd.DataFrame(Result_Table)"
   ]
  },
  {
   "cell_type": "code",
   "execution_count": 97,
   "metadata": {},
   "outputs": [
    {
     "data": {
      "text/html": [
       "<div>\n",
       "<style scoped>\n",
       "    .dataframe tbody tr th:only-of-type {\n",
       "        vertical-align: middle;\n",
       "    }\n",
       "\n",
       "    .dataframe tbody tr th {\n",
       "        vertical-align: top;\n",
       "    }\n",
       "\n",
       "    .dataframe thead th {\n",
       "        text-align: right;\n",
       "    }\n",
       "</style>\n",
       "<table border=\"1\" class=\"dataframe\">\n",
       "  <thead>\n",
       "    <tr style=\"text-align: right;\">\n",
       "      <th></th>\n",
       "      <th>Label</th>\n",
       "      <th>Trimmed_Proj_Nm</th>\n",
       "    </tr>\n",
       "  </thead>\n",
       "  <tbody>\n",
       "    <tr>\n",
       "      <th>0</th>\n",
       "      <td>5</td>\n",
       "      <td>s   earn   x   bonus   miles   with   hilton  ...</td>\n",
       "    </tr>\n",
       "    <tr>\n",
       "      <th>1</th>\n",
       "      <td>5</td>\n",
       "      <td>s   earn   x   bonus   miles   with   hilton  ...</td>\n",
       "    </tr>\n",
       "    <tr>\n",
       "      <th>2</th>\n",
       "      <td>0</td>\n",
       "      <td>die   neue   internetseite   von   ist   online</td>\n",
       "    </tr>\n",
       "    <tr>\n",
       "      <th>3</th>\n",
       "      <td>0</td>\n",
       "      <td>notice   of   modified   taoyuan   internation...</td>\n",
       "    </tr>\n",
       "    <tr>\n",
       "      <th>4</th>\n",
       "      <td>0</td>\n",
       "      <td>promotion   vers   bangkok   hong   kong   et ...</td>\n",
       "    </tr>\n",
       "  </tbody>\n",
       "</table>\n",
       "</div>"
      ],
      "text/plain": [
       "   Label                                    Trimmed_Proj_Nm\n",
       "0      5  s   earn   x   bonus   miles   with   hilton  ...\n",
       "1      5  s   earn   x   bonus   miles   with   hilton  ...\n",
       "2      0    die   neue   internetseite   von   ist   online\n",
       "3      0  notice   of   modified   taoyuan   internation...\n",
       "4      0  promotion   vers   bangkok   hong   kong   et ..."
      ]
     },
     "execution_count": 97,
     "metadata": {},
     "output_type": "execute_result"
    }
   ],
   "source": [
    "text_cluster_df[:5]"
   ]
  },
  {
   "cell_type": "code",
   "execution_count": 98,
   "metadata": {},
   "outputs": [],
   "source": [
    "export_csv = text_cluster_df.to_csv (r'C:\\Users\\F78001\\Desktop\\Subj_ReCluster2_EN_K7.csv', index = None, header=True)"
   ]
  },
  {
   "cell_type": "markdown",
   "metadata": {},
   "source": [
    "Filter for re-clusterting"
   ]
  },
  {
   "cell_type": "code",
   "execution_count": 302,
   "metadata": {},
   "outputs": [],
   "source": [
    "L0= text_cluster_df[(text_cluster_df[\"Label\"]==0)]\n",
    "L1=text_cluster_df[(text_cluster_df[\"Label\"]==1)]\n",
    "L3=text_cluster_df[(text_cluster_df[\"Label\"]==3)]\n",
    "L4=text_cluster_df[(text_cluster_df[\"Label\"]==4)]\n",
    "L5=text_cluster_df[(text_cluster_df[\"Label\"]==5)]\n",
    "#L6=text_cluster_df[(text_cluster_df[\"Label\"]==6)]\n",
    "L7=text_cluster_df[(text_cluster_df[\"Label\"]==7)]\n",
    "#L8=text_cluster_df[(text_cluster_df[\"Label\"]==8)]\n",
    "L9=text_cluster_df[(text_cluster_df[\"Label\"]==9)]\n",
    "L10=text_cluster_df[(text_cluster_df[\"Label\"]==10)]\n",
    "L11=text_cluster_df[(text_cluster_df[\"Label\"]==11)]"
   ]
  },
  {
   "cell_type": "code",
   "execution_count": 303,
   "metadata": {},
   "outputs": [],
   "source": [
    "R1 = L0.append(L1)\n",
    "R2 = R1.append(L3)\n",
    "R3 = R2.append(L4)\n",
    "R4 = R3.append(L5)\n",
    "R5 = R4.append(L7)\n",
    "R6 = R5.append(L9)\n",
    "R7 = R6.append(L10)\n",
    "recluster = R7.append(L11)"
   ]
  },
  {
   "cell_type": "code",
   "execution_count": 304,
   "metadata": {},
   "outputs": [],
   "source": [
    "recluster = recluster.reindex(columns=['Label','Trimmed_Proj_Nm'])"
   ]
  },
  {
   "cell_type": "code",
   "execution_count": 305,
   "metadata": {
    "scrolled": true
   },
   "outputs": [
    {
     "data": {
      "text/html": [
       "<div>\n",
       "<style scoped>\n",
       "    .dataframe tbody tr th:only-of-type {\n",
       "        vertical-align: middle;\n",
       "    }\n",
       "\n",
       "    .dataframe tbody tr th {\n",
       "        vertical-align: top;\n",
       "    }\n",
       "\n",
       "    .dataframe thead th {\n",
       "        text-align: right;\n",
       "    }\n",
       "</style>\n",
       "<table border=\"1\" class=\"dataframe\">\n",
       "  <thead>\n",
       "    <tr style=\"text-align: right;\">\n",
       "      <th></th>\n",
       "      <th>Label</th>\n",
       "      <th>Trimmed_Proj_Nm</th>\n",
       "    </tr>\n",
       "  </thead>\n",
       "  <tbody>\n",
       "    <tr>\n",
       "      <th>320</th>\n",
       "      <td>0</td>\n",
       "      <td>連續 三年 獲 五星級 航空 榮譽並 奪得 全球 十大 最佳 航空公司 第五名 全球 最佳 ...</td>\n",
       "    </tr>\n",
       "    <tr>\n",
       "      <th>321</th>\n",
       "      <td>0</td>\n",
       "      <td>連續 三年 獲 五星級 航空 榮譽並 奪得 全球 十大 最佳 航空公司 第五名 全球 最佳 ...</td>\n",
       "    </tr>\n",
       "    <tr>\n",
       "      <th>322</th>\n",
       "      <td>0</td>\n",
       "      <td>連續 三年 獲 五星級 航空 榮譽並 奪得 全球 十大 最佳 航空公司 第五名 全球 最佳 ...</td>\n",
       "    </tr>\n",
       "    <tr>\n",
       "      <th>323</th>\n",
       "      <td>0</td>\n",
       "      <td>連續 三年 獲 五星級 航空 榮譽並 奪得 全球 十大 最佳 航空公司 第五名 全球 最佳 ...</td>\n",
       "    </tr>\n",
       "    <tr>\n",
       "      <th>814</th>\n",
       "      <td>0</td>\n",
       "      <td>歡迎 登機 快樂 一起 飛 彩繪機 換新裝 慶祝 活動</td>\n",
       "    </tr>\n",
       "  </tbody>\n",
       "</table>\n",
       "</div>"
      ],
      "text/plain": [
       "     Label                                    Trimmed_Proj_Nm\n",
       "320      0  連續 三年 獲 五星級 航空 榮譽並 奪得 全球 十大 最佳 航空公司 第五名 全球 最佳 ...\n",
       "321      0  連續 三年 獲 五星級 航空 榮譽並 奪得 全球 十大 最佳 航空公司 第五名 全球 最佳 ...\n",
       "322      0  連續 三年 獲 五星級 航空 榮譽並 奪得 全球 十大 最佳 航空公司 第五名 全球 最佳 ...\n",
       "323      0  連續 三年 獲 五星級 航空 榮譽並 奪得 全球 十大 最佳 航空公司 第五名 全球 最佳 ...\n",
       "814      0                        歡迎 登機 快樂 一起 飛 彩繪機 換新裝 慶祝 活動"
      ]
     },
     "execution_count": 305,
     "metadata": {},
     "output_type": "execute_result"
    }
   ],
   "source": [
    "recluster[:5]"
   ]
  },
  {
   "cell_type": "code",
   "execution_count": 306,
   "metadata": {},
   "outputs": [],
   "source": [
    "export_csv = recluster.to_csv (r'C:\\Users\\F78001\\Desktop\\Subj_ReCluster2_ZH.csv', index = None, header=True)"
   ]
  },
  {
   "cell_type": "markdown",
   "metadata": {},
   "source": [
    "# Note"
   ]
  },
  {
   "cell_type": "code",
   "execution_count": null,
   "metadata": {},
   "outputs": [],
   "source": [
    "#只除特殊符號/取代數字為NUM\n",
    "import re\n",
    "\n",
    "Trm_Prj_Nm = []\n",
    "\n",
    "for i in Proj_Nm:\n",
    "    Trm_Prj_Nm = re.sub(u\"([^\\u4e00-\\u9fa5\\u0030-\\u0039\\u0041-\\u005a\\u0061-\\u007a])\",\" \",i) #去除符號\n",
    "    Prj_Nm = re.sub(r'\\d+', ' NUM ',Trm_Prj_Nm)\n",
    "    L_Prj_Nm = Prj_Nm.lower()\n",
    "    Trm_Prj_Nm.append(L_Prj_Nm)"
   ]
  },
  {
   "cell_type": "code",
   "execution_count": null,
   "metadata": {},
   "outputs": [],
   "source": [
    "#DataFrame使用函數要改為apply.(自訂函數)\n",
    "def cutword(x):\n",
    "        seg = jieba.cut(x)  #结巴分词函数\n",
    "        return ' '.join(seg)#\n",
    "df['seg_word']=df['title'].apply(cutword)"
   ]
  },
  {
   "cell_type": "code",
   "execution_count": 154,
   "metadata": {},
   "outputs": [],
   "source": [
    "def custom_jieba(text):\n",
    "    seg = jieba.cut(text)  #结巴分词函數\n",
    "    #for word in seg:\n",
    "    if seg not in stopwords:\n",
    "        return \" \".join(seg)"
   ]
  },
  {
   "cell_type": "code",
   "execution_count": 157,
   "metadata": {},
   "outputs": [],
   "source": [
    "#1.加载语料TEST\n",
    "corpus_t = []\n",
    "with open(\"data/Proj_Nm_ZH.txt\",\"r\") as f:\n",
    "    for line in f:\n",
    "        # 去掉标点符号\n",
    "        corpus_t.append(custom_jieba(line.strip()))"
   ]
  },
  {
   "cell_type": "code",
   "execution_count": 15,
   "metadata": {},
   "outputs": [],
   "source": [
    "def custom_jieba_2(text):\n",
    "    #seg = []\n",
    "    for index, row in text.iterrows():\n",
    "        content = row[1] #針對第2欄抽詞斷字\n",
    "        words = jieba.cut(content)\n",
    "        for word in words:\n",
    "            if word not in stopwords:\n",
    "                #sent = ' '.join(words)\n",
    "                #sent_list = sent.append(sent)\n",
    "                return  ' '.join(word)#sent_list"
   ]
  },
  {
   "cell_type": "code",
   "execution_count": 75,
   "metadata": {
    "scrolled": true
   },
   "outputs": [
    {
     "data": {
      "image/png": "[encoded data removed]",
      "text/plain": [
       "<Figure size 720x720 with 1 Axes>"
      ]
     },
     "metadata": {},
     "output_type": "display_data"
    }
   ],
   "source": [
    "#6、可视化\n",
    "\n",
    "# 使用T-SNE算法，对权重进行降维，准确度比PCA算法高，但是耗时长\n",
    "tsne = TSNE(n_components=2)\n",
    "decomposition_data = tsne.fit_transform(tfidf_weight)\n",
    "\n",
    "x = []\n",
    "y = []\n",
    "\n",
    "for i in decomposition_data:\n",
    "    x.append(i[0])\n",
    "    y.append(i[1])\n",
    "\n",
    "fig = plt.figure(figsize=(10, 10))\n",
    "ax = plt.axes()\n",
    "\n",
    "plt.scatter(x, y, c=kmeans.labels_, marker=\"x\")\n",
    "\n",
    "# 設置坐標軸的取值範圍\n",
    "#plt.xlim((-100, 100))\n",
    "#plt.ylim((-100, 100))\n",
    "\n",
    "plt.xticks(())\n",
    "plt.yticks(())\n",
    "# plt.show()\n",
    "plt.savefig('./sample.png', aspect=1)"
   ]
  },
  {
   "cell_type": "code",
   "execution_count": null,
   "metadata": {},
   "outputs": [],
   "source": [
    "#使用DataFrame的欄位切詞\n",
    "#dataframe.coulumn.apply(user define function)"
   ]
  },
  {
   "cell_type": "code",
   "execution_count": null,
   "metadata": {},
   "outputs": [],
   "source": [
    "#2019/07/18\n",
    "#修正1: 去除NUM/test/測試 英文分開分析?\n",
    "#修正2: 自訂函數去除Stop Words & 加入User Dictionary\n",
    "#修正3: 地區字? \n",
    "#把確定的分群排除在分群"
   ]
  }
 ],
 "metadata": {
  "kernelspec": {
   "display_name": "Python 3",
   "language": "python",
   "name": "python3"
  },
  "language_info": {
   "codemirror_mode": {
    "name": "ipython",
    "version": 3
   },
   "file_extension": ".py",
   "mimetype": "text/x-python",
   "name": "python",
   "nbconvert_exporter": "python",
   "pygments_lexer": "ipython3",
   "version": "3.5.5"
  }
 },
 "nbformat": 4,
 "nbformat_minor": 2
}
